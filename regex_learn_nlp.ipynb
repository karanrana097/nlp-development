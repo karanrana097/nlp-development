{
 "cells": [
  {
   "cell_type": "code",
   "execution_count": 1,
   "id": "28f8fee4-bd4d-4f2d-b4c3-247994ab1048",
   "metadata": {},
   "outputs": [],
   "source": [
    "import re"
   ]
  },
  {
   "cell_type": "code",
   "execution_count": 4,
   "id": "6f1f5b1e-05fb-483b-9337-a894f5c0de90",
   "metadata": {},
   "outputs": [],
   "source": [
    "chat1 = 'karanrana: you ask a lot of questions 1234567898, abc@xyz.com'\n",
    "chat2 = 'karanrana: here it is (123)-567-8912, abc@xyz.com'\n",
    "chat3 = 'karanrana: yes, phone: 1235678912 email: abc@xyz.com'"
   ]
  },
  {
   "cell_type": "code",
   "execution_count": 9,
   "id": "203d65b1-c866-4668-a6c9-a6d46e91c76c",
   "metadata": {},
   "outputs": [
    {
     "data": {
      "text/plain": [
       "['(123)-567-891']"
      ]
     },
     "execution_count": 9,
     "metadata": {},
     "output_type": "execute_result"
    }
   ],
   "source": [
    "pattern = r'\\d{10}|\\(\\d{3}\\)-\\d{3}-\\d{3}'\n",
    "\n",
    "matches = re.findall(pattern, chat2)\n",
    "matches"
   ]
  },
  {
   "cell_type": "code",
   "execution_count": null,
   "id": "06cefe3c-b70f-449c-b73c-21e6888a7ce0",
   "metadata": {},
   "outputs": [],
   "source": []
  }
 ],
 "metadata": {
  "kernelspec": {
   "display_name": "Python 3 (ipykernel)",
   "language": "python",
   "name": "python3"
  },
  "language_info": {
   "codemirror_mode": {
    "name": "ipython",
    "version": 3
   },
   "file_extension": ".py",
   "mimetype": "text/x-python",
   "name": "python",
   "nbconvert_exporter": "python",
   "pygments_lexer": "ipython3",
   "version": "3.12.3"
  }
 },
 "nbformat": 4,
 "nbformat_minor": 5
}
